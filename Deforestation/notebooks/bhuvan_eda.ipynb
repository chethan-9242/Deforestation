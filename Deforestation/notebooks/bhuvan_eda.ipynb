{
  "cells": [
    {
      "cell_type": "code",
      "execution_count": null,
      "metadata": {},
      "outputs": [],
      "source": [
        "import os\n",
        "from pathlib import Path\n",
        "from PIL import Image\n",
        "import pandas as pd\n",
        "import numpy as np\n",
        "import matplotlib.pyplot as plt\n",
        "\n",
        "root = Path(__file__).resolve().parents[1] / 'data' / 'bhuvan'\n",
        "class_csv = root / 'class_dict_seg.csv'\n",
        "train_img = root / 'train_image'\n",
        "train_msk = root / 'train_mask'\n",
        "\n",
        "print('Root:', root)\n",
        "print('Train images:', len(list(train_img.glob('*.jpg'))))\n",
        "print('Train masks:', len(list(train_msk.glob('*.png'))))\n",
        "\n",
        "classes = pd.read_csv(class_csv)\n",
        "print(classes)\n",
        "\n",
        "# Show a few overlays\n",
        "stems = sorted({p.stem for p in train_img.glob('*.jpg')} & {p.stem for p in train_msk.glob('*.png')})[:4]\n",
        "fig, axes = plt.subplots(len(stems), 3, figsize=(10, 3*len(stems)))\n",
        "for i, stem in enumerate(stems):\n",
        "    img = np.array(Image.open(train_img / f'{stem}.jpg').convert('RGB'))\n",
        "    msk = np.array(Image.open(train_msk / f'{stem}.png').convert('RGB'))\n",
        "    axes[i,0].imshow(img)\n",
        "    axes[i,0].set_title(stem)\n",
        "    axes[i,0].axis('off')\n",
        "    axes[i,1].imshow(msk)\n",
        "    axes[i,1].set_title('mask')\n",
        "    axes[i,1].axis('off')\n",
        "    overlay = (0.6*img + 0.4*msk).astype(np.uint8)\n",
        "    axes[i,2].imshow(overlay)\n",
        "    axes[i,2].set_title('overlay')\n",
        "    axes[i,2].axis('off')\n",
        "plt.tight_layout()\n",
        "plt.show()\n"
      ]
    },
    {
      "cell_type": "code",
      "execution_count": null,
      "metadata": {},
      "outputs": [],
      "source": [
        "import os\n",
        "from pathlib import Path\n",
        "from PIL import Image\n",
        "import pandas as pd\n",
        "import numpy as np\n",
        "import matplotlib.pyplot as plt"
      ]
    }
  ],
  "metadata": {
    "language_info": {
      "name": "python"
    }
  },
  "nbformat": 4,
  "nbformat_minor": 2
}
